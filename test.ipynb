{
 "cells": [
  {
   "cell_type": "code",
   "execution_count": 1,
   "metadata": {},
   "outputs": [],
   "source": [
    "import sqlite3"
   ]
  },
  {
   "cell_type": "code",
   "execution_count": 4,
   "metadata": {},
   "outputs": [
    {
     "name": "stdout",
     "output_type": "stream",
     "text": [
      "README.md   \u001b[34mapp\u001b[m\u001b[m         temple.db   \u001b[34mtemple_venv\u001b[m\u001b[m test.ipynb  \u001b[34mtests\u001b[m\u001b[m\n"
     ]
    }
   ],
   "source": [
    "!ls "
   ]
  },
  {
   "cell_type": "code",
   "execution_count": 5,
   "metadata": {},
   "outputs": [],
   "source": [
    "DB_NAME = 'temple.db'\n",
    "conn = sqlite3.connect(DB_NAME)"
   ]
  },
  {
   "cell_type": "code",
   "execution_count": null,
   "metadata": {},
   "outputs": [],
   "source": []
  },
  {
   "cell_type": "markdown",
   "metadata": {},
   "source": [
    "# 寫測試資料"
   ]
  },
  {
   "cell_type": "code",
   "execution_count": 5,
   "metadata": {},
   "outputs": [],
   "source": [
    "import sqlite3\n",
    "\n",
    "def init_household_test_data(db_path=\"temple.db\"):\n",
    "    conn = sqlite3.connect(db_path)\n",
    "    cursor = conn.cursor()\n",
    "\n",
    "    # 插入測試資料（符合新版 head_* 欄位結構）\n",
    "    sample_data = [\n",
    "        (\n",
    "            \"陳大文\", \"男\", \"1990-01-01\", \"農1月初一\", \"子時\", 34, \"馬\",\n",
    "            \"02-12345678\", \"0912345678\", \"david@example.com\",\n",
    "            \"台北市中正區忠孝東路一段100號\", \"100\", \"戶長\", \"善信，長期參與活動\", \"2020-05-01\",\n",
    "            \"此戶為主要功德戶\"\n",
    "        ),\n",
    "        (\n",
    "            \"林小妹\", \"女\", \"1985-06-15\", \"農5月初五\", \"午時\", 39, \"牛\",\n",
    "            \"02-22334455\", \"0922333444\", \"xiaomei@example.com\",\n",
    "            \"新北市板橋區文化路二段88號\", \"220\", \"委員\", \"\", \"2021-01-10\",\n",
    "            \"\"\n",
    "        ),\n",
    "        (\n",
    "            \"王阿姨\", \"女\", \"1970-09-09\", \"農8月初八\", \"未時\", 54, \"狗\",\n",
    "            \"\", \"0933555777\", \"auntie@example.com\",\n",
    "            \"高雄市左營區自由三路68號\", \"813\", \"信徒\", \"\", \"2018-09-09\",\n",
    "            \"高雄分堂發起戶\"\n",
    "        )\n",
    "    ]\n",
    "\n",
    "    cursor.executemany(\"\"\"\n",
    "        INSERT INTO households (\n",
    "            head_name, head_gender, head_birthday_ad, head_birthday_lunar,\n",
    "            head_birth_time, head_age, head_zodiac, head_phone_home,\n",
    "            head_phone_mobile, head_email, head_address, head_zip_code,\n",
    "            head_identity, head_note, head_joined_at, household_note\n",
    "        ) VALUES (?, ?, ?, ?, ?, ?, ?, ?, ?, ?, ?, ?, ?, ?, ?, ?)\n",
    "    \"\"\", sample_data)\n",
    "\n",
    "    conn.commit()\n",
    "    conn.close()\n",
    "    print(\"✅ 測試資料已成功插入新版 households 資料表。\")\n",
    "\n",
    "\n",
    "    \n"
   ]
  },
  {
   "cell_type": "code",
   "execution_count": 6,
   "metadata": {},
   "outputs": [
    {
     "name": "stdout",
     "output_type": "stream",
     "text": [
      "✅ 測試資料已成功插入新版 households 資料表。\n"
     ]
    }
   ],
   "source": [
    "init_household_test_data(db_path=\"./app/database/temple.db\")"
   ]
  },
  {
   "cell_type": "code",
   "execution_count": 8,
   "metadata": {},
   "outputs": [
    {
     "name": "stdout",
     "output_type": "stream",
     "text": [
      "✅ 已插入王阿姨戶的 people 與 household_members 測試資料\n"
     ]
    }
   ],
   "source": [
    "import sqlite3\n",
    "import uuid\n",
    "\n",
    "def insert_people_and_members(db_path=\"./app/database/temple.db\"):\n",
    "    conn = sqlite3.connect(db_path)\n",
    "    cursor = conn.cursor()\n",
    "\n",
    "    # ➤ 插入 people 資料（含戶長本人 + 其他成員）\n",
    "    people = [\n",
    "        (\"王阿姨\", \"女\", \"1970-09-09\", \"農8月初八\", \"未時\", 54, \"狗\", \"\", \"0933555777\",\n",
    "         \"auntie@example.com\", \"高雄市左營區自由三路68號\", \"813\", \"丁\", \"\", \"2018-09-09\"),\n",
    "\n",
    "        (\"王小明\", \"男\", \"2005-03-15\", \"農2月初二\", \"午時\", 19, \"雞\", \"\", \"0911000000\",\n",
    "         \"\", \"高雄市左營區自由三路68號\", \"813\", \"口\", \"\", \"2022-06-01\"),\n",
    "\n",
    "        (\"王媽媽\", \"女\", \"1945-11-20\", \"農10月初五\", \"子時\", 79, \"雞\", \"\", \"\",\n",
    "         \"\", \"高雄市左營區自由三路68號\", \"813\", \"丁\", \"\", \"2020-02-01\")\n",
    "    ]\n",
    "\n",
    "    people_ids = []\n",
    "    for p in people:\n",
    "        person_id = str(uuid.uuid4())\n",
    "        people_ids.append(person_id)\n",
    "        cursor.execute(\"\"\"\n",
    "            INSERT INTO people (\n",
    "                id, name, gender, birthday_ad, birthday_lunar, birth_time,\n",
    "                age, zodiac, phone_home, phone_mobile, email,\n",
    "                address, zip_code, identity, note, joined_at\n",
    "            )\n",
    "            VALUES (?, ?, ?, ?, ?, ?, ?, ?, ?, ?, ?, ?, ?, ?, ?, ?)\n",
    "        \"\"\", (person_id, *p))\n",
    "\n",
    "    # ➤ household_id 假設為 3（對應王阿姨那戶）\n",
    "    household_id = 3\n",
    "\n",
    "    household_members = [\n",
    "        (str(uuid.uuid4()), household_id, people_ids[0], \"本人\"),\n",
    "        (str(uuid.uuid4()), household_id, people_ids[1], \"兒子\"),\n",
    "        (str(uuid.uuid4()), household_id, people_ids[2], \"母親\")\n",
    "    ]\n",
    "\n",
    "    cursor.executemany(\"\"\"\n",
    "        INSERT INTO household_members (id, household_id, person_id, relationship)\n",
    "        VALUES (?, ?, ?, ?)\n",
    "    \"\"\", household_members)\n",
    "\n",
    "    conn.commit()\n",
    "    conn.close()\n",
    "    print(\"✅ 已插入王阿姨戶的 people 與 household_members 測試資料\")\n",
    "\n",
    "if __name__ == \"__main__\":\n",
    "    insert_people_and_members()\n"
   ]
  },
  {
   "cell_type": "code",
   "execution_count": null,
   "metadata": {},
   "outputs": [],
   "source": []
  }
 ],
 "metadata": {
  "kernelspec": {
   "display_name": "temple_venv",
   "language": "python",
   "name": "python3"
  },
  "language_info": {
   "codemirror_mode": {
    "name": "ipython",
    "version": 3
   },
   "file_extension": ".py",
   "mimetype": "text/x-python",
   "name": "python",
   "nbconvert_exporter": "python",
   "pygments_lexer": "ipython3",
   "version": "3.12.3"
  }
 },
 "nbformat": 4,
 "nbformat_minor": 2
}
